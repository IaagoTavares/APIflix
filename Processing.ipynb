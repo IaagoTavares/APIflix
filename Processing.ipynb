{
 "cells": [
  {
   "cell_type": "code",
   "execution_count": 1,
   "metadata": {},
   "outputs": [],
   "source": [
    "import requests \n",
    "from bs4 import BeautifulSoup\n",
    "from datetime import datetime \n",
    "from datetime import date\n",
    "from datetime import timedelta\n",
    "import time \n",
    "from glob import glob\n",
    "import pandas as pd\n",
    "import os \n",
    "from pathlib import Path\n",
    "from ast import literal_eval    \n",
    "import re\n",
    "from unidecode import unidecode\n",
    "import unicodedata\n",
    "import numpy as np\n",
    "import json\n",
    "import plotly.express as px"
   ]
  },
  {
   "cell_type": "code",
   "execution_count": 32,
   "metadata": {},
   "outputs": [],
   "source": [
    "fundos = {\n",
    "    'IP': {\n",
    "        'MASCARA': '12.082.452/0001-49',\n",
    "        'ROSTO' : '11.435.298/0001-89',\n",
    "        'PK_PARTIC': '100377'\n",
    "    },\n",
    "\n",
    "    'DYNAMO': {\n",
    "        'MASCARA': '73.232.530/0001-39',\n",
    "        'ROSTO' : '37.916.879/0001-26',\n",
    "        'PK_PARTIC': '190109'\n",
    "    },\n",
    "\n",
    "    'VELT': {\n",
    "        'MASCARA': '',\n",
    "        'ROSTO' : '08.927.452/0001-25',\n",
    "        'PK_PARTIC': '73929'\n",
    "    },\n",
    "\n",
    "    'REAL INVESTOR': {\n",
    "        'MASCARA': '',\n",
    "        'ROSTO' : '36.352.539/0001-57',\n",
    "        'PK_PARTIC': '193679'\n",
    "    },\n",
    "\n",
    "    'ATMOS': {\n",
    "        'MASCARA': '',\n",
    "        'ROSTO' : '11.188.572/0001-62',\n",
    "        'PK_PARTIC': '94978'\n",
    "    },\n",
    "\n",
    "    'CONSTELLATION': {\n",
    "        'MASCARA': '',\n",
    "        'ROSTO' : '11.225.860/0001-40',\n",
    "        'PK_PARTIC': '95894'\n",
    "    },\n",
    "\n",
    "   'SQUADRA': {\n",
    "        'MASCARA': '09.285.146/0001-03',\n",
    "        'ROSTO' : '09.412.648/0001-40',\n",
    "        'PK_PARTIC': '80320'\n",
    "    },\n",
    "\n",
    "   'TEMPO': {\n",
    "        'MASCARA': '00.906.044/0001-85',\n",
    "        'ROSTO' : '11.046.362/0001-30',\n",
    "        'PK_PARTIC': '93817'\n",
    "    },\n",
    "\n",
    "   'GUEPARDO': {\n",
    "        'MASCARA': '08.830.947/0001-31',\n",
    "        'ROSTO' : '14.213.077/0001-54',\n",
    "        'PK_PARTIC': '122677'\n",
    "    },\n",
    "\n",
    "   'BOGARI': {\n",
    "        'MASCARA': '08.323.402/0001-39',\n",
    "        'ROSTO' : '15.165.493/0001-97',\n",
    "        'PK_PARTIC': '125916'\n",
    "    },\n",
    "\n",
    "   'ALASKA POLAND': {\n",
    "        'MASCARA': '',\n",
    "        'ROSTO' : '05.775.774/0001-08',\n",
    "        'PK_PARTIC': '54232'\n",
    "    },\n",
    "\n",
    "   'GERACAO L PAR': {\n",
    "        'MASCARA': '',\n",
    "        'ROSTO' : '08.935.128/0001-59',\n",
    "        'PK_PARTIC': '73249'\n",
    "    },\n",
    "\n",
    "    '3G RADAR': {\n",
    "        'MASCARA': '',\n",
    "        'ROSTO' : '18.324.976/0001-85',\n",
    "        'PK_PARTIC': '131418'\n",
    "    },\n",
    "}\n",
    "\n",
    "# Adicionar 3G Radar "
   ]
  },
  {
   "cell_type": "code",
   "execution_count": 2,
   "metadata": {},
   "outputs": [],
   "source": [
    "df = pd.read_csv('./consolidatedTEST.csv')"
   ]
  },
  {
   "cell_type": "code",
   "execution_count": 33,
   "metadata": {},
   "outputs": [
    {
     "name": "stdout",
     "output_type": "stream",
     "text": [
      "VULC3\n",
      "KLBN11\n",
      "UGPA3\n",
      "RAIL3\n",
      "ANIM3\n",
      "ITUB4\n",
      "MLAS3\n",
      "GGBR4\n",
      "ITUB3\n",
      "GMAT3\n",
      "MYPK3\n",
      "ALSO3\n"
     ]
    }
   ],
   "source": [
    "a = df.loc[df['Fundo'] == 'VELT MASTER FUNDO DE INVESTIMENTO EM AÇŐES']['posicoes'].tolist()[0]\n",
    "# remover aspas simples ao redor dos nomes das chaves do dicionário\n",
    "string = a.replace(\"'\", \"\\\"\")\n",
    "\n",
    "# converter a string em uma lista de dicionários\n",
    "lista_de_dicionarios = json.loads(string)\n",
    "\n",
    "# print(lista_de_dicionarios[0]['Posicoes'])\n",
    "all = pd.DataFrame(json.loads(df.loc[df['Fundo'] == \"GUEPARDO INSTITUCIONAL MASTER FUNDO DE INVESTIMENTO DE AÃıES\"]['posicoes'].tolist()[0].replace(\"'\", \"\\\"\")))\n",
    "\n",
    "a = json.loads(df.loc[df['Fundo'] == \"GUEPARDO INSTITUCIONAL MASTER FUNDO DE INVESTIMENTO DE AÃıES\"]['posicoes'].tolist()[0].replace(\"'\", \"\\\"\"))[0]['Posicoes']\n",
    "# all_positions = pd.DataFrame(json.loads(df.loc[df['Fundo'] == \"GUEPARDO INSTITUCIONAL MASTER FUNDO DE INVESTIMENTO DE AÃıES\"]['posicoes'].tolist()[0].replace(\"'\", \"\\\"\")))\n",
    "# a = pd.DataFrame(all_positions)\n",
    "b =['VULC3','KLBN11','UGPA3','RAIL3','ANIM3','ITUB4','MLAS3','GGBR4','ITUB3','GMAT3','MYPK3','ALSO3']\n",
    "\n",
    "for i in a:\n",
    "    print(i)"
   ]
  },
  {
   "cell_type": "code",
   "execution_count": 118,
   "metadata": {},
   "outputs": [],
   "source": [
    "url = 'https://cvmweb.cvm.gov.br/SWB/Sistemas/SCW/CPublica/CDA/CPublicaCDA.aspx?PK_PARTIC=73249&SemFrame='\n",
    "http = requests.get(url)\n",
    "soup = BeautifulSoup(http.content, \"html.parser\" )\n",
    "\n",
    "viewState = soup.select('#__VIEWSTATE')[0].get('value')\n",
    "eventValidation = soup.select('#__EVENTVALIDATION')[0].get('value')\n",
    "ddCompt = soup.select('option')[4].get('value')\n",
    "\n",
    "params ={\n",
    "'__EVENTTARGET': 'ddCOMPTC',\n",
    "'__EVENTARGUMENT':'', \n",
    "'__LASTFOCUS':'',\n",
    "'__VIEWSTATE':viewState,\n",
    "'__VIEWSTATEGENERATOR': \n",
    "'1D0C00E6',\n",
    "'__EVENTVALIDATION': eventValidation, \n",
    "'ddCOMPTC': ddCompt\n",
    "}\n",
    "\n",
    "x = requests.post(url, data = params)\n",
    "sp = BeautifulSoup(x.content, \"html.parser\" )"
   ]
  },
  {
   "cell_type": "code",
   "execution_count": 120,
   "metadata": {},
   "outputs": [
    {
     "data": {
      "text/plain": [
       "'athSSescod'"
      ]
     },
     "execution_count": 120,
     "metadata": {},
     "output_type": "execute_result"
    }
   ],
   "source": [
    "a = unidecode(sp.select(\"[align=left]\")[0].text.split(':')[0].split('.')[0].strip().lower())\n",
    "a"
   ]
  },
  {
   "cell_type": "code",
   "execution_count": 121,
   "metadata": {},
   "outputs": [
    {
     "data": {
      "text/plain": [
       "True"
      ]
     },
     "execution_count": 121,
     "metadata": {},
     "output_type": "execute_result"
    }
   ],
   "source": [
    "a in 'athSSescod'"
   ]
  },
  {
   "cell_type": "code",
   "execution_count": 84,
   "metadata": {},
   "outputs": [
    {
     "data": {
      "text/plain": [
       "'0,292'"
      ]
     },
     "execution_count": 84,
     "metadata": {},
     "output_type": "execute_result"
    }
   ],
   "source": [
    "#nome do ativo\n",
    "sp.select(\"[align=center]\")[-1].text"
   ]
  }
 ],
 "metadata": {
  "kernelspec": {
   "display_name": "Python 3",
   "language": "python",
   "name": "python3"
  },
  "language_info": {
   "codemirror_mode": {
    "name": "ipython",
    "version": 3
   },
   "file_extension": ".py",
   "mimetype": "text/x-python",
   "name": "python",
   "nbconvert_exporter": "python",
   "pygments_lexer": "ipython3",
   "version": "3.9.13"
  },
  "orig_nbformat": 4,
  "vscode": {
   "interpreter": {
    "hash": "a4abf6c2225b0bdcce88164fb04a639c1d92c1becd90735eeb8a6648ec296b30"
   }
  }
 },
 "nbformat": 4,
 "nbformat_minor": 2
}
