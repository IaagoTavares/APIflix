{
 "cells": [
  {
   "cell_type": "code",
   "execution_count": 6,
   "metadata": {},
   "outputs": [],
   "source": [
    "import requests \n",
    "from bs4 import BeautifulSoup\n",
    "from datetime import datetime \n",
    "from datetime import date\n",
    "from datetime import timedelta\n",
    "import time \n",
    "from glob import glob\n",
    "import pandas as pd\n",
    "import os \n",
    "from pathlib import Path\n",
    "from ast import literal_eval\n",
    "import re\n",
    "from unidecode import unidecode\n",
    "import plotly.express as px\n",
    "import matplotlib.pyplot as plt"
   ]
  },
  {
   "cell_type": "code",
   "execution_count": 2,
   "metadata": {},
   "outputs": [
    {
     "name": "stderr",
     "output_type": "stream",
     "text": [
      "\n",
      "KeyboardInterrupt\n",
      "\n"
     ]
    }
   ],
   "source": [
    "fundos = {\n",
    "    'IP': {\n",
    "        'MASCARA': '12.082.452/0001-49',\n",
    "        'ROSTO' : '11.435.298/0001-89',\n",
    "        'PK_PARTIC': '100377'\n",
    "    },\n",
    "\n",
    "    'DYNAMO': {\n",
    "        'MASCARA': '73.232.530/0001-39',\n",
    "        'ROSTO' : '37.916.879/0001-26',\n",
    "        'PK_PARTIC': '190109'\n",
    "    },\n",
    "\n",
    "    'VELT': {\n",
    "        'MASCARA': '',\n",
    "        'ROSTO' : '08.927.452/0001-25',\n",
    "        'PK_PARTIC': '73929'\n",
    "    },\n",
    "\n",
    "    'REAL INVESTOR': {\n",
    "        'MASCARA': '',\n",
    "        'ROSTO' : '36.352.539/0001-57',\n",
    "        'PK_PARTIC': '193679'\n",
    "    },\n",
    "\n",
    "    'ATMOS': {\n",
    "        'MASCARA': '',\n",
    "        'ROSTO' : '11.188.572/0001-62',\n",
    "        'PK_PARTIC': '94978'\n",
    "    },\n",
    "\n",
    "    'CONSTELLATION': {\n",
    "        'MASCARA': '',\n",
    "        'ROSTO' : '11.225.860/0001-40',\n",
    "        'PK_PARTIC': '95894'\n",
    "    },\n",
    "\n",
    "   'SQUADRA': {\n",
    "        'MASCARA': '09.285.146/0001-03',\n",
    "        'ROSTO' : '09.412.648/0001-40',\n",
    "        'PK_PARTIC': '80320'\n",
    "    },\n",
    "\n",
    "   'TEMPO': {\n",
    "        'MASCARA': '00.906.044/0001-85',\n",
    "        'ROSTO' : '11.046.362/0001-30',\n",
    "        'PK_PARTIC': '93817'\n",
    "    },\n",
    "\n",
    "   'GUEPARDO': {\n",
    "        'MASCARA': '08.830.947/0001-31',\n",
    "        'ROSTO' : '14.213.077/0001-54',\n",
    "        'PK_PARTIC': '122677'\n",
    "    },\n",
    "\n",
    "   'BOGARI': {\n",
    "        'MASCARA': '08.323.402/0001-39',\n",
    "        'ROSTO' : '15.165.493/0001-97',\n",
    "        'PK_PARTIC': '125916'\n",
    "    },\n",
    "\n",
    "   'ALASKA POLAND': {\n",
    "        'MASCARA': '',\n",
    "        'ROSTO' : '05.775.774/0001-08',\n",
    "        'PK_PARTIC': '54232'\n",
    "    },\n",
    "\n",
    "   'GERACAO L PAR': {\n",
    "        'MASCARA': '',\n",
    "        'ROSTO' : '08.935.128/0001-59',\n",
    "        'PK_PARTIC': '73249'\n",
    "    },\n",
    "\n",
    "    '3G RADAR': {\n",
    "        'MASCARA': '',\n",
    "        'ROSTO' : '18.324.976/0001-85',\n",
    "        'PK_PARTIC': '131418'\n",
    "    },\n",
    "}\n",
    "\n",
    "P = [pk['PK_PARTIC'] for pk in list(fundos.values())]\n",
    "meses_anteriores = 12\n",
    "funds = []\n",
    "\n",
    "\n",
    "# Percorrer os fundos \n",
    "def raspagemCarteira(PK, meses_anteriores, fundo_destino): \n",
    "    for id in PK:\n",
    "        url = 'https://cvmweb.cvm.gov.br/SWB/Sistemas/SCW/CPublica/CDA/CPublicaCDA.aspx?PK_PARTIC='+id+'&SemFrame='\n",
    "        http = requests.get(url)\n",
    "        soup = BeautifulSoup(http.content, \"html.parser\" )\n",
    "        nomeFundo = soup.select('#lbNmDenomSocial')[0].text\n",
    "        fund = {'Fundo':nomeFundo, 'posicoes': []}\n",
    "        viewState = soup.select('#__VIEWSTATE')[0].get('value')\n",
    "        eventValidation = soup.select('#__EVENTVALIDATION')[0].get('value')\n",
    "        \n",
    "\n",
    "        # Percorrendo todos os meses\n",
    "        for i in range(2, meses_anteriores):\n",
    "            tickers = []\n",
    "            ddCompt = soup.select('option')[i].get('value')\n",
    "            mes = soup.select('option')[i].text\n",
    "            fund['Fundo'] = nomeFundo\n",
    "\n",
    "            params = {\n",
    "            '__EVENTTARGET': 'ddCOMPTC',\n",
    "            '__EVENTARGUMENT':'', \n",
    "            '__LASTFOCUS':'',\n",
    "            '__VIEWSTATE':viewState,\n",
    "            '__VIEWSTATEGENERATOR': \n",
    "            '1D0C00E6',\n",
    "            '__EVENTVALIDATION': eventValidation, \n",
    "            'ddCOMPTC': ddCompt\n",
    "            }\n",
    "\n",
    "            x = requests.post(url, data = params)\n",
    "            sp = BeautifulSoup(x.content, \"html.parser\" )\n",
    "            \n",
    "            # Percorrendo a carteira\n",
    "            for index in sp.find_all('table')[1].find_all('tr', attrs = {'bgcolor': ['#FAEFCA', 'Cornsilk']}):\n",
    "                line = index.find_all('td', attrs = {'align': 'left'})[0].text\n",
    "\n",
    "                if unidecode(line.split(':')[0].split('.')[0].strip().lower()) == 'acoesdescricao' or unidecode(line.split(':')[0].split('.')[0].strip().lower()) =='acoescod' or unidecode(line.split(':')[0].split('.')[0].strip().lower()) == 'athSSescod':\n",
    "                    word = line.split(':')[1].strip().split(' ')[0]\n",
    "                    tick = re.search('^.*\\d', word).group(0)\n",
    "                    pl = index.find_all('td')[-1].text\n",
    "                    qtd = index.find_all('td', attrs = {'align': 'center'})[6].text\n",
    "                \n",
    "                    tickers.append({'Ticker': tick, '% Pl': pl, 'Quantidade': qtd})\n",
    "            \n",
    "            dic = {\n",
    "                'Mes': mes,\n",
    "                'Posicoes': tickers\n",
    "            }\n",
    "\n",
    "            fund['posicoes'].append(dic)\n",
    "        fundo_destino.append(fund)\n",
    "\n",
    "raspagemCarteira(P, meses_anteriores, funds)\n",
    "\n",
    "df = pd.DataFrame(funds)\n",
    "df.to_csv('MVP-Pront.csv', index=False)"
   ]
  },
  {
   "cell_type": "code",
   "execution_count": 8,
   "metadata": {},
   "outputs": [],
   "source": [
    "df = pd.read_csv('./MVP-Pront.csv')\n",
    "array_funds = df['Fundo'].tolist()"
   ]
  },
  {
   "cell_type": "code",
   "execution_count": 11,
   "metadata": {},
   "outputs": [
    {
     "data": {
      "text/plain": [
       "\"[{'Mes': '12/2022', 'Posicoes': [{'Ticker': 'ITSA4', '% Pl': '6,761', 'Quantidade': '4.202.271'}, {'Ticker': 'EQTL3', '% Pl': '4,473', 'Quantidade': '875.650'}, {'Ticker': 'RDOR3', '% Pl': '2,092', 'Quantidade': '374.144'}, {'Ticker': 'HAPV3', '% Pl': '1,429', 'Quantidade': '1.488.025'}, {'Ticker': 'MULT3', '% Pl': '0,574', 'Quantidade': '138.679'}]}, {'Mes': '11/2022', 'Posicoes': [{'Ticker': 'ITSA4', '% Pl': '5,488', 'Quantidade': '3.400.253'}, {'Ticker': 'HAPV3', '% Pl': '4,214', 'Quantidade': '4.458.900'}, {'Ticker': 'EQTL3', '% Pl': '3,79', 'Quantidade': '756.945'}, {'Ticker': 'RDOR3', '% Pl': '1,474', 'Quantidade': '261.075'}, {'Ticker': 'MULT3', '% Pl': '0,71', 'Quantidade': '170.372'}]}, {'Mes': '10/2022', 'Posicoes': [{'Ticker': 'HAPV3', '% Pl': '6,087', 'Quantidade': '4.368.563'}, {'Ticker': 'EQTL3', '% Pl': '5,76', 'Quantidade': '1.073.713'}, {'Ticker': 'ITSA4', '% Pl': '4,6', 'Quantidade': '2.397.658'}, {'Ticker': 'MULT3', '% Pl': '2,57', 'Quantidade': '545.749'}, {'Ticker': 'RDOR3', '% Pl': '1,512', 'Quantidade': '263.150'}]}, {'Mes': '09/2022', 'Posicoes': [{'Ticker': 'EQTL3', '% Pl': '7,918', 'Quantidade': '1.567.784'}, {'Ticker': 'ITSA4', '% Pl': '4,381', 'Quantidade': '2.397.892'}, {'Ticker': 'MULT3', '% Pl': '2,237', 'Quantidade': '493.002'}, {'Ticker': 'HAPV3', '% Pl': '2,029', 'Quantidade': '1.427.816'}, {'Ticker': 'RDOR3', '% Pl': '0,242', 'Quantidade': '43.293'}]}, {'Mes': '08/2022', 'Posicoes': [{'Ticker': 'EQTL3', '% Pl': '7,568', 'Quantidade': '1.748.713'}, {'Ticker': 'HAPV3', '% Pl': '6,225', 'Quantidade': '4.777.207'}, {'Ticker': 'ITSA4', '% Pl': '3,203', 'Quantidade': '1.955.518'}, {'Ticker': 'MULT3', '% Pl': '2,567', 'Quantidade': '595.186'}, {'Ticker': 'RDOR3', '% Pl': '1,093', 'Quantidade': '183.286'}]}, {'Mes': '07/2022', 'Posicoes': [{'Ticker': 'EQTL3', '% Pl': '7,407', 'Quantidade': '1.701.452'}, {'Ticker': 'HAPV3', '% Pl': '5,213', 'Quantidade': '4.822.807'}, {'Ticker': 'ITSA4', '% Pl': '2,023', 'Quantidade': '1.336.205'}, {'Ticker': 'MULT3', '% Pl': '1,884', 'Quantidade': '451.086'}, {'Ticker': 'RDOR3', '% Pl': '0,521', 'Quantidade': '91.604'}]}, {'Mes': '06/2022', 'Posicoes': [{'Ticker': 'EQTL3', '% Pl': '6,887', 'Quantidade': '1.585.958'}, {'Ticker': 'HAPV3', '% Pl': '5,016', 'Quantidade': '4.822.807'}, {'Ticker': 'MULT3', '% Pl': '2,475', 'Quantidade': '592.986'}, {'Ticker': 'ITSA4', '% Pl': '2,119', 'Quantidade': '1.336.205'}, {'Ticker': 'RDOR3', '% Pl': '1,075', 'Quantidade': '195.023'}]}, {'Mes': '05/2022', 'Posicoes': [{'Ticker': 'EQTL3', '% Pl': '6,605', 'Quantidade': '1.616.258'}, {'Ticker': 'HAPV3', '% Pl': '5,313', 'Quantidade': '4.600.857'}, {'Ticker': 'MULT3', '% Pl': '2', 'Quantidade': '483.069'}, {'Ticker': 'RDOR3', '% Pl': '0,639', 'Quantidade': '103.863'}]}, {'Mes': '04/2022', 'Posicoes': [{'Ticker': 'EQTL3', '% Pl': '8,324', 'Quantidade': '1.998.081'}, {'Ticker': 'HAPV3', '% Pl': '5,745', 'Quantidade': '4.032.127'}, {'Ticker': 'MULT3', '% Pl': '3,534', 'Quantidade': '882.389'}, {'Ticker': 'RDOR3', '% Pl': '1,02', 'Quantidade': '170.953'}]}, {'Mes': '03/2022', 'Posicoes': [{'Ticker': 'EQTL3', '% Pl': '7,397', 'Quantidade': '1.998.081'}, {'Ticker': 'HAPV3', '% Pl': '6,495', 'Quantidade': '4.032.127'}, {'Ticker': 'B3SA3', '% Pl': '2,317', 'Quantidade': '1.083.871'}, {'Ticker': 'MULT3', '% Pl': '1,329', 'Quantidade': '399.103'}, {'Ticker': 'RDOR3', '% Pl': '1,121', 'Quantidade': '165.094'}]}]\""
      ]
     },
     "execution_count": 11,
     "metadata": {},
     "output_type": "execute_result"
    }
   ],
   "source": [
    "df['posicoes'][0]"
   ]
  },
  {
   "cell_type": "code",
   "execution_count": 3,
   "metadata": {},
   "outputs": [],
   "source": [
    "def get_initial_final_position(datafram):\n",
    "    for i in range(len(datafram['posicoes'])):\n",
    "        posInicial = eval(datafram['posicoes'][i])[-1]\n",
    "        posFinal = eval(datafram['posicoes'][i])[0]\n",
    "        datafram.loc[i, 'init_final_position'] = str([posInicial, posFinal])\n",
    "    return datafram\n",
    "\n",
    "get_initial_final_position(df)\n",
    "\n",
    "def get_notices(x):\n",
    "    notices = []\n",
    "    for a in eval(x)[0]['Posicoes']:\n",
    "        for b in eval(x)[-1]['Posicoes']:\n",
    "            if a['Ticker'] == b['Ticker']:\n",
    "                if int(a['Quantidade'].replace(\".\", \"\")) > int(b['Quantidade'].replace(\".\", \"\")):\n",
    "                    notices.append(\" comprou \" + str(int(a['Quantidade'].replace(\".\", \"\")) - int(b['Quantidade'].replace(\".\", \"\"))) + \" quantidades de \" + a['Ticker'])\n",
    "                else:\n",
    "                    notices.append(\" vendeu \" + str(int(b['Quantidade'].replace(\".\", \"\")) - int(a['Quantidade'].replace(\".\", \"\"))) + \" quantidades de \" + a['Ticker'])\n",
    "    return notices\n",
    "\n",
    "def get_final_notice(datafram):\n",
    "    df['news'] = df['init_final_position'].apply(get_notices)\n",
    "    absolute_notice = []\n",
    "    for i in datafram['Fundo']:\n",
    "        nomeFundo = ' '.join(i.split()[:2])\n",
    "        array_newFinal = []\n",
    "        for a in datafram['news'].loc[datafram['Fundo'] == i]:\n",
    "            for b in a:\n",
    "                new_final = nomeFundo + b\n",
    "                array_newFinal.append(new_final)\n",
    "                absolute_notice.append(new_final)\n",
    "        datafram.loc[datafram['Fundo'] == i, 'news_final'] = str(array_newFinal)\n",
    "    return absolute_notice\n",
    "            \n",
    "\n",
    "\n"
   ]
  },
  {
   "cell_type": "code",
   "execution_count": 5,
   "metadata": {},
   "outputs": [
    {
     "data": {
      "text/plain": [
       "\"[{'Mes': '12/2022', 'Posicoes': [{'Ticker': 'ITSA4', '% Pl': '6,761', 'Quantidade': '4.202.271'}, {'Ticker': 'EQTL3', '% Pl': '4,473', 'Quantidade': '875.650'}, {'Ticker': 'RDOR3', '% Pl': '2,092', 'Quantidade': '374.144'}, {'Ticker': 'HAPV3', '% Pl': '1,429', 'Quantidade': '1.488.025'}, {'Ticker': 'MULT3', '% Pl': '0,574', 'Quantidade': '138.679'}]}, {'Mes': '11/2022', 'Posicoes': [{'Ticker': 'ITSA4', '% Pl': '5,488', 'Quantidade': '3.400.253'}, {'Ticker': 'HAPV3', '% Pl': '4,214', 'Quantidade': '4.458.900'}, {'Ticker': 'EQTL3', '% Pl': '3,79', 'Quantidade': '756.945'}, {'Ticker': 'RDOR3', '% Pl': '1,474', 'Quantidade': '261.075'}, {'Ticker': 'MULT3', '% Pl': '0,71', 'Quantidade': '170.372'}]}, {'Mes': '10/2022', 'Posicoes': [{'Ticker': 'HAPV3', '% Pl': '6,087', 'Quantidade': '4.368.563'}, {'Ticker': 'EQTL3', '% Pl': '5,76', 'Quantidade': '1.073.713'}, {'Ticker': 'ITSA4', '% Pl': '4,6', 'Quantidade': '2.397.658'}, {'Ticker': 'MULT3', '% Pl': '2,57', 'Quantidade': '545.749'}, {'Ticker': 'RDOR3', '% Pl': '1,512', 'Quantidade': '263.150'}]}, {'Mes': '09/2022', 'Posicoes': [{'Ticker': 'EQTL3', '% Pl': '7,918', 'Quantidade': '1.567.784'}, {'Ticker': 'ITSA4', '% Pl': '4,381', 'Quantidade': '2.397.892'}, {'Ticker': 'MULT3', '% Pl': '2,237', 'Quantidade': '493.002'}, {'Ticker': 'HAPV3', '% Pl': '2,029', 'Quantidade': '1.427.816'}, {'Ticker': 'RDOR3', '% Pl': '0,242', 'Quantidade': '43.293'}]}, {'Mes': '08/2022', 'Posicoes': [{'Ticker': 'EQTL3', '% Pl': '7,568', 'Quantidade': '1.748.713'}, {'Ticker': 'HAPV3', '% Pl': '6,225', 'Quantidade': '4.777.207'}, {'Ticker': 'ITSA4', '% Pl': '3,203', 'Quantidade': '1.955.518'}, {'Ticker': 'MULT3', '% Pl': '2,567', 'Quantidade': '595.186'}, {'Ticker': 'RDOR3', '% Pl': '1,093', 'Quantidade': '183.286'}]}, {'Mes': '07/2022', 'Posicoes': [{'Ticker': 'EQTL3', '% Pl': '7,407', 'Quantidade': '1.701.452'}, {'Ticker': 'HAPV3', '% Pl': '5,213', 'Quantidade': '4.822.807'}, {'Ticker': 'ITSA4', '% Pl': '2,023', 'Quantidade': '1.336.205'}, {'Ticker': 'MULT3', '% Pl': '1,884', 'Quantidade': '451.086'}, {'Ticker': 'RDOR3', '% Pl': '0,521', 'Quantidade': '91.604'}]}, {'Mes': '06/2022', 'Posicoes': [{'Ticker': 'EQTL3', '% Pl': '6,887', 'Quantidade': '1.585.958'}, {'Ticker': 'HAPV3', '% Pl': '5,016', 'Quantidade': '4.822.807'}, {'Ticker': 'MULT3', '% Pl': '2,475', 'Quantidade': '592.986'}, {'Ticker': 'ITSA4', '% Pl': '2,119', 'Quantidade': '1.336.205'}, {'Ticker': 'RDOR3', '% Pl': '1,075', 'Quantidade': '195.023'}]}, {'Mes': '05/2022', 'Posicoes': [{'Ticker': 'EQTL3', '% Pl': '6,605', 'Quantidade': '1.616.258'}, {'Ticker': 'HAPV3', '% Pl': '5,313', 'Quantidade': '4.600.857'}, {'Ticker': 'MULT3', '% Pl': '2', 'Quantidade': '483.069'}, {'Ticker': 'RDOR3', '% Pl': '0,639', 'Quantidade': '103.863'}]}, {'Mes': '04/2022', 'Posicoes': [{'Ticker': 'EQTL3', '% Pl': '8,324', 'Quantidade': '1.998.081'}, {'Ticker': 'HAPV3', '% Pl': '5,745', 'Quantidade': '4.032.127'}, {'Ticker': 'MULT3', '% Pl': '3,534', 'Quantidade': '882.389'}, {'Ticker': 'RDOR3', '% Pl': '1,02', 'Quantidade': '170.953'}]}, {'Mes': '03/2022', 'Posicoes': [{'Ticker': 'EQTL3', '% Pl': '7,397', 'Quantidade': '1.998.081'}, {'Ticker': 'HAPV3', '% Pl': '6,495', 'Quantidade': '4.032.127'}, {'Ticker': 'B3SA3', '% Pl': '2,317', 'Quantidade': '1.083.871'}, {'Ticker': 'MULT3', '% Pl': '1,329', 'Quantidade': '399.103'}, {'Ticker': 'RDOR3', '% Pl': '1,121', 'Quantidade': '165.094'}]}]\""
      ]
     },
     "execution_count": 5,
     "metadata": {},
     "output_type": "execute_result"
    }
   ],
   "source": [
    "# criar uma função que vincula o nome do fundo com a movimentação\n",
    "# criar um for que percorre todos os elementos do news para cada fundo e adiciona o nome do fundo no começo \n",
    "\n",
    "# w = get_final_notice(df)\n",
    "# w\n",
    "\n",
    "df['posicoes'][0]"
   ]
  },
  {
   "cell_type": "code",
   "execution_count": 98,
   "metadata": {},
   "outputs": [],
   "source": [
    "for i in df['Fundo']:\n",
    "    nomeFundo = ' '.join(i.split()[:2])\n",
    "    array_newFinal = []\n",
    "    for a in df['news'].loc[df['Fundo'] == i]:\n",
    "        for b in a:\n",
    "            new_final = nomeFundo + b\n",
    "            array_newFinal.append(new_final)\n",
    "    df.loc[df['Fundo'] == i, 'news_final'] = str(array_newFinal)\n",
    "            \n",
    "\n"
   ]
  },
  {
   "cell_type": "code",
   "execution_count": 101,
   "metadata": {},
   "outputs": [
    {
     "data": {
      "text/plain": [
       "\"['IP PARTICIPAÇŐES comprou 1122431 quantidades de EQTL3', 'IP PARTICIPAÇŐES comprou 2544102 quantidades de HAPV3', 'IP PARTICIPAÇŐES comprou 260424 quantidades de MULT3', 'IP PARTICIPAÇŐES vendeu 209050 quantidades de RDOR3']\""
      ]
     },
     "execution_count": 101,
     "metadata": {},
     "output_type": "execute_result"
    }
   ],
   "source": [
    "df['news_final'][0]"
   ]
  },
  {
   "attachments": {},
   "cell_type": "markdown",
   "metadata": {},
   "source": [
    "# Validando o código PK dos fundos"
   ]
  },
  {
   "cell_type": "code",
   "execution_count": 90,
   "metadata": {},
   "outputs": [],
   "source": [
    "P = [pk['PK_PARTIC'] for pk in list(fundos.values())]\n",
    "meses_anteriores = 12"
   ]
  },
  {
   "cell_type": "code",
   "execution_count": 91,
   "metadata": {},
   "outputs": [
    {
     "name": "stdout",
     "output_type": "stream",
     "text": [
      "100377\n",
      "[<span id=\"lbNmDenomSocial\">IP PARTICIPAÇŐES MASTER FUNDO DE INVESTIMENTO EM AÇŐES BDR NÍVEL I</span>]\n"
     ]
    }
   ],
   "source": [
    "for cod in P:\n",
    "    print(cod)\n",
    "    url = 'https://cvmweb.cvm.gov.br/SWB/Sistemas/SCW/CPublica/CDA/CPublicaCDA.aspx?PK_PARTIC='+cod+'&SemFrame='\n",
    "    http = requests.get(url)\n",
    "    soup = BeautifulSoup(http.content, \"html.parser\" )\n",
    "    print(soup.select('#lbNmDenomSocial'))\n",
    "    break"
   ]
  },
  {
   "attachments": {},
   "cell_type": "markdown",
   "metadata": {},
   "source": [
    "# Coletando a carteira de um único fundo "
   ]
  },
  {
   "cell_type": "code",
   "execution_count": 92,
   "metadata": {},
   "outputs": [],
   "source": [
    "# Coletando o viewstate para fazer o POST das carteiras\n",
    "\n",
    "viewState = soup.select('#__VIEWSTATE')[0].get('value')\n",
    "eventValidation = soup.select('#__EVENTVALIDATION')[0].get('value')\n",
    "ddCompt = soup.select('option')[4].get('value')\n",
    "params ={\n",
    "'__EVENTTARGET': 'ddCOMPTC',\n",
    "'__EVENTARGUMENT':'', \n",
    "'__LASTFOCUS':'',\n",
    "'__VIEWSTATE':viewState,\n",
    "'__VIEWSTATEGENERATOR': \n",
    "'1D0C00E6',\n",
    "'__EVENTVALIDATION': eventValidation, \n",
    "'ddCOMPTC': ddCompt\n",
    "}\n",
    "x = requests.post(url, data = params)\n",
    "sp = BeautifulSoup(x.content, \"html.parser\" )\n"
   ]
  },
  {
   "attachments": {},
   "cell_type": "markdown",
   "metadata": {},
   "source": [
    "# Tentando pegar a ultima coluna (%pl)"
   ]
  },
  {
   "cell_type": "code",
   "execution_count": 107,
   "metadata": {},
   "outputs": [
    {
     "name": "stdout",
     "output_type": "stream",
     "text": [
      "[<td align=\"center\"><span id=\"dlAplics__ctl1_lbNConfTpNegoc\">Para<br/>negociaçăo</span></td>, <td align=\"center\"><span id=\"dlAplics__ctl1_lbNConfEmpLigada\">Năo</span></td>, <td align=\"center\">0</td>, <td align=\"center\"><span id=\"dlAplics__ctl1_lbNConfVlVendasNegoc\">0,00</span></td>, <td align=\"center\">0</td>, <td align=\"center\"><span id=\"dlAplics__ctl1_lbNConfVlAquisNegoc\">0,00</span></td>, <td align=\"center\">4.368.563</td>, <td align=\"center\"><span id=\"dlAplics__ctl1_lbNConfVlCustoCorrecPosFim\"></span></td>, <td align=\"center\"><span id=\"dlAplics__ctl1_lbNConfVlPosFim\">34.074.791,40</span></td>, <td align=\"center\">6,087</td>]\n"
     ]
    }
   ],
   "source": [
    "# coletando o left do ativo, que informa se é ação ou não e o pl\n",
    "for i in sp.find_all('table')[1].find_all('tr', attrs = {'bgcolor': ['#FAEFCA', 'Cornsilk']}):\n",
    "    # a = i.find_all('td')[-1].text\n",
    "    # b = i.find_all('td', attrs = {'align': 'left'})[0].text\n",
    "    # c = i.find_all('td', attrs = {'align': 'center'})[6].text\n",
    "\n",
    "    \n",
    "\n",
    "    # if unidecode(b.split(':')[0].split('.')[0].strip().lower()) == 'acoesdescricao' or unidecode(b.split(':')[0].split('.')[0].strip().lower()) =='acoescod' or unidecode(b.split(':')[0].split('.')[0].strip().lower()) == 'athSSescod':\n",
    "    #     word = b.split(':')[1].strip().split(' ')[0]\n",
    "    #     tick = re.search('^.*\\d', word).group(0)\n",
    "    #     print('Comeu ' + tick + ' e o PL dele é ' + a)\n",
    "\n",
    "    break\n"
   ]
  },
  {
   "attachments": {},
   "cell_type": "markdown",
   "metadata": {},
   "source": [
    "# Empacotando o códido e rodando todos os fundos"
   ]
  },
  {
   "cell_type": "code",
   "execution_count": 32,
   "metadata": {},
   "outputs": [
    {
     "ename": "ConnectionError",
     "evalue": "HTTPSConnectionPool(host='cvmweb.cvm.gov.br', port=443): Max retries exceeded with url: /SWB/Sistemas/SCW/CPublica/CDA/CPublicaCDA.aspx?PK_PARTIC=73249&SemFrame= (Caused by NewConnectionError('<urllib3.connection.HTTPSConnection object at 0x00000243BA752DC0>: Failed to establish a new connection: [Errno 11001] getaddrinfo failed'))",
     "output_type": "error",
     "traceback": [
      "\u001b[1;31m---------------------------------------------------------------------------\u001b[0m",
      "\u001b[1;31mgaierror\u001b[0m                                  Traceback (most recent call last)",
      "File \u001b[1;32m~\\AppData\\Local\\Packages\\PythonSoftwareFoundation.Python.3.9_qbz5n2kfra8p0\\LocalCache\\local-packages\\Python39\\site-packages\\urllib3\\connection.py:174\u001b[0m, in \u001b[0;36mHTTPConnection._new_conn\u001b[1;34m(self)\u001b[0m\n\u001b[0;32m    173\u001b[0m \u001b[39mtry\u001b[39;00m:\n\u001b[1;32m--> 174\u001b[0m     conn \u001b[39m=\u001b[39m connection\u001b[39m.\u001b[39mcreate_connection(\n\u001b[0;32m    175\u001b[0m         (\u001b[39mself\u001b[39m\u001b[39m.\u001b[39m_dns_host, \u001b[39mself\u001b[39m\u001b[39m.\u001b[39mport), \u001b[39mself\u001b[39m\u001b[39m.\u001b[39mtimeout, \u001b[39m*\u001b[39m\u001b[39m*\u001b[39mextra_kw\n\u001b[0;32m    176\u001b[0m     )\n\u001b[0;32m    178\u001b[0m \u001b[39mexcept\u001b[39;00m SocketTimeout:\n",
      "File \u001b[1;32m~\\AppData\\Local\\Packages\\PythonSoftwareFoundation.Python.3.9_qbz5n2kfra8p0\\LocalCache\\local-packages\\Python39\\site-packages\\urllib3\\util\\connection.py:72\u001b[0m, in \u001b[0;36mcreate_connection\u001b[1;34m(address, timeout, source_address, socket_options)\u001b[0m\n\u001b[0;32m     68\u001b[0m     \u001b[39mreturn\u001b[39;00m six\u001b[39m.\u001b[39mraise_from(\n\u001b[0;32m     69\u001b[0m         LocationParseError(\u001b[39mu\u001b[39m\u001b[39m\"\u001b[39m\u001b[39m'\u001b[39m\u001b[39m%s\u001b[39;00m\u001b[39m'\u001b[39m\u001b[39m, label empty or too long\u001b[39m\u001b[39m\"\u001b[39m \u001b[39m%\u001b[39m host), \u001b[39mNone\u001b[39;00m\n\u001b[0;32m     70\u001b[0m     )\n\u001b[1;32m---> 72\u001b[0m \u001b[39mfor\u001b[39;00m res \u001b[39min\u001b[39;00m socket\u001b[39m.\u001b[39;49mgetaddrinfo(host, port, family, socket\u001b[39m.\u001b[39;49mSOCK_STREAM):\n\u001b[0;32m     73\u001b[0m     af, socktype, proto, canonname, sa \u001b[39m=\u001b[39m res\n",
      "File \u001b[1;32mC:\\Program Files\\WindowsApps\\PythonSoftwareFoundation.Python.3.9_3.9.3568.0_x64__qbz5n2kfra8p0\\lib\\socket.py:954\u001b[0m, in \u001b[0;36mgetaddrinfo\u001b[1;34m(host, port, family, type, proto, flags)\u001b[0m\n\u001b[0;32m    953\u001b[0m addrlist \u001b[39m=\u001b[39m []\n\u001b[1;32m--> 954\u001b[0m \u001b[39mfor\u001b[39;00m res \u001b[39min\u001b[39;00m _socket\u001b[39m.\u001b[39;49mgetaddrinfo(host, port, family, \u001b[39mtype\u001b[39;49m, proto, flags):\n\u001b[0;32m    955\u001b[0m     af, socktype, proto, canonname, sa \u001b[39m=\u001b[39m res\n",
      "\u001b[1;31mgaierror\u001b[0m: [Errno 11001] getaddrinfo failed",
      "\nDuring handling of the above exception, another exception occurred:\n",
      "\u001b[1;31mNewConnectionError\u001b[0m                        Traceback (most recent call last)",
      "File \u001b[1;32m~\\AppData\\Local\\Packages\\PythonSoftwareFoundation.Python.3.9_qbz5n2kfra8p0\\LocalCache\\local-packages\\Python39\\site-packages\\urllib3\\connectionpool.py:703\u001b[0m, in \u001b[0;36mHTTPConnectionPool.urlopen\u001b[1;34m(self, method, url, body, headers, retries, redirect, assert_same_host, timeout, pool_timeout, release_conn, chunked, body_pos, **response_kw)\u001b[0m\n\u001b[0;32m    702\u001b[0m \u001b[39m# Make the request on the httplib connection object.\u001b[39;00m\n\u001b[1;32m--> 703\u001b[0m httplib_response \u001b[39m=\u001b[39m \u001b[39mself\u001b[39;49m\u001b[39m.\u001b[39;49m_make_request(\n\u001b[0;32m    704\u001b[0m     conn,\n\u001b[0;32m    705\u001b[0m     method,\n\u001b[0;32m    706\u001b[0m     url,\n\u001b[0;32m    707\u001b[0m     timeout\u001b[39m=\u001b[39;49mtimeout_obj,\n\u001b[0;32m    708\u001b[0m     body\u001b[39m=\u001b[39;49mbody,\n\u001b[0;32m    709\u001b[0m     headers\u001b[39m=\u001b[39;49mheaders,\n\u001b[0;32m    710\u001b[0m     chunked\u001b[39m=\u001b[39;49mchunked,\n\u001b[0;32m    711\u001b[0m )\n\u001b[0;32m    713\u001b[0m \u001b[39m# If we're going to release the connection in ``finally:``, then\u001b[39;00m\n\u001b[0;32m    714\u001b[0m \u001b[39m# the response doesn't need to know about the connection. Otherwise\u001b[39;00m\n\u001b[0;32m    715\u001b[0m \u001b[39m# it will also try to release it and we'll have a double-release\u001b[39;00m\n\u001b[0;32m    716\u001b[0m \u001b[39m# mess.\u001b[39;00m\n",
      "File \u001b[1;32m~\\AppData\\Local\\Packages\\PythonSoftwareFoundation.Python.3.9_qbz5n2kfra8p0\\LocalCache\\local-packages\\Python39\\site-packages\\urllib3\\connectionpool.py:386\u001b[0m, in \u001b[0;36mHTTPConnectionPool._make_request\u001b[1;34m(self, conn, method, url, timeout, chunked, **httplib_request_kw)\u001b[0m\n\u001b[0;32m    385\u001b[0m \u001b[39mtry\u001b[39;00m:\n\u001b[1;32m--> 386\u001b[0m     \u001b[39mself\u001b[39;49m\u001b[39m.\u001b[39;49m_validate_conn(conn)\n\u001b[0;32m    387\u001b[0m \u001b[39mexcept\u001b[39;00m (SocketTimeout, BaseSSLError) \u001b[39mas\u001b[39;00m e:\n\u001b[0;32m    388\u001b[0m     \u001b[39m# Py2 raises this as a BaseSSLError, Py3 raises it as socket timeout.\u001b[39;00m\n",
      "File \u001b[1;32m~\\AppData\\Local\\Packages\\PythonSoftwareFoundation.Python.3.9_qbz5n2kfra8p0\\LocalCache\\local-packages\\Python39\\site-packages\\urllib3\\connectionpool.py:1042\u001b[0m, in \u001b[0;36mHTTPSConnectionPool._validate_conn\u001b[1;34m(self, conn)\u001b[0m\n\u001b[0;32m   1041\u001b[0m \u001b[39mif\u001b[39;00m \u001b[39mnot\u001b[39;00m \u001b[39mgetattr\u001b[39m(conn, \u001b[39m\"\u001b[39m\u001b[39msock\u001b[39m\u001b[39m\"\u001b[39m, \u001b[39mNone\u001b[39;00m):  \u001b[39m# AppEngine might not have  `.sock`\u001b[39;00m\n\u001b[1;32m-> 1042\u001b[0m     conn\u001b[39m.\u001b[39;49mconnect()\n\u001b[0;32m   1044\u001b[0m \u001b[39mif\u001b[39;00m \u001b[39mnot\u001b[39;00m conn\u001b[39m.\u001b[39mis_verified:\n",
      "File \u001b[1;32m~\\AppData\\Local\\Packages\\PythonSoftwareFoundation.Python.3.9_qbz5n2kfra8p0\\LocalCache\\local-packages\\Python39\\site-packages\\urllib3\\connection.py:358\u001b[0m, in \u001b[0;36mHTTPSConnection.connect\u001b[1;34m(self)\u001b[0m\n\u001b[0;32m    356\u001b[0m \u001b[39mdef\u001b[39;00m \u001b[39mconnect\u001b[39m(\u001b[39mself\u001b[39m):\n\u001b[0;32m    357\u001b[0m     \u001b[39m# Add certificate verification\u001b[39;00m\n\u001b[1;32m--> 358\u001b[0m     \u001b[39mself\u001b[39m\u001b[39m.\u001b[39msock \u001b[39m=\u001b[39m conn \u001b[39m=\u001b[39m \u001b[39mself\u001b[39;49m\u001b[39m.\u001b[39;49m_new_conn()\n\u001b[0;32m    359\u001b[0m     hostname \u001b[39m=\u001b[39m \u001b[39mself\u001b[39m\u001b[39m.\u001b[39mhost\n",
      "File \u001b[1;32m~\\AppData\\Local\\Packages\\PythonSoftwareFoundation.Python.3.9_qbz5n2kfra8p0\\LocalCache\\local-packages\\Python39\\site-packages\\urllib3\\connection.py:186\u001b[0m, in \u001b[0;36mHTTPConnection._new_conn\u001b[1;34m(self)\u001b[0m\n\u001b[0;32m    185\u001b[0m \u001b[39mexcept\u001b[39;00m SocketError \u001b[39mas\u001b[39;00m e:\n\u001b[1;32m--> 186\u001b[0m     \u001b[39mraise\u001b[39;00m NewConnectionError(\n\u001b[0;32m    187\u001b[0m         \u001b[39mself\u001b[39m, \u001b[39m\"\u001b[39m\u001b[39mFailed to establish a new connection: \u001b[39m\u001b[39m%s\u001b[39;00m\u001b[39m\"\u001b[39m \u001b[39m%\u001b[39m e\n\u001b[0;32m    188\u001b[0m     )\n\u001b[0;32m    190\u001b[0m \u001b[39mreturn\u001b[39;00m conn\n",
      "\u001b[1;31mNewConnectionError\u001b[0m: <urllib3.connection.HTTPSConnection object at 0x00000243BA752DC0>: Failed to establish a new connection: [Errno 11001] getaddrinfo failed",
      "\nDuring handling of the above exception, another exception occurred:\n",
      "\u001b[1;31mMaxRetryError\u001b[0m                             Traceback (most recent call last)",
      "File \u001b[1;32m~\\AppData\\Local\\Packages\\PythonSoftwareFoundation.Python.3.9_qbz5n2kfra8p0\\LocalCache\\local-packages\\Python39\\site-packages\\requests\\adapters.py:489\u001b[0m, in \u001b[0;36mHTTPAdapter.send\u001b[1;34m(self, request, stream, timeout, verify, cert, proxies)\u001b[0m\n\u001b[0;32m    488\u001b[0m \u001b[39mif\u001b[39;00m \u001b[39mnot\u001b[39;00m chunked:\n\u001b[1;32m--> 489\u001b[0m     resp \u001b[39m=\u001b[39m conn\u001b[39m.\u001b[39;49murlopen(\n\u001b[0;32m    490\u001b[0m         method\u001b[39m=\u001b[39;49mrequest\u001b[39m.\u001b[39;49mmethod,\n\u001b[0;32m    491\u001b[0m         url\u001b[39m=\u001b[39;49murl,\n\u001b[0;32m    492\u001b[0m         body\u001b[39m=\u001b[39;49mrequest\u001b[39m.\u001b[39;49mbody,\n\u001b[0;32m    493\u001b[0m         headers\u001b[39m=\u001b[39;49mrequest\u001b[39m.\u001b[39;49mheaders,\n\u001b[0;32m    494\u001b[0m         redirect\u001b[39m=\u001b[39;49m\u001b[39mFalse\u001b[39;49;00m,\n\u001b[0;32m    495\u001b[0m         assert_same_host\u001b[39m=\u001b[39;49m\u001b[39mFalse\u001b[39;49;00m,\n\u001b[0;32m    496\u001b[0m         preload_content\u001b[39m=\u001b[39;49m\u001b[39mFalse\u001b[39;49;00m,\n\u001b[0;32m    497\u001b[0m         decode_content\u001b[39m=\u001b[39;49m\u001b[39mFalse\u001b[39;49;00m,\n\u001b[0;32m    498\u001b[0m         retries\u001b[39m=\u001b[39;49m\u001b[39mself\u001b[39;49m\u001b[39m.\u001b[39;49mmax_retries,\n\u001b[0;32m    499\u001b[0m         timeout\u001b[39m=\u001b[39;49mtimeout,\n\u001b[0;32m    500\u001b[0m     )\n\u001b[0;32m    502\u001b[0m \u001b[39m# Send the request.\u001b[39;00m\n\u001b[0;32m    503\u001b[0m \u001b[39melse\u001b[39;00m:\n",
      "File \u001b[1;32m~\\AppData\\Local\\Packages\\PythonSoftwareFoundation.Python.3.9_qbz5n2kfra8p0\\LocalCache\\local-packages\\Python39\\site-packages\\urllib3\\connectionpool.py:787\u001b[0m, in \u001b[0;36mHTTPConnectionPool.urlopen\u001b[1;34m(self, method, url, body, headers, retries, redirect, assert_same_host, timeout, pool_timeout, release_conn, chunked, body_pos, **response_kw)\u001b[0m\n\u001b[0;32m    785\u001b[0m     e \u001b[39m=\u001b[39m ProtocolError(\u001b[39m\"\u001b[39m\u001b[39mConnection aborted.\u001b[39m\u001b[39m\"\u001b[39m, e)\n\u001b[1;32m--> 787\u001b[0m retries \u001b[39m=\u001b[39m retries\u001b[39m.\u001b[39;49mincrement(\n\u001b[0;32m    788\u001b[0m     method, url, error\u001b[39m=\u001b[39;49me, _pool\u001b[39m=\u001b[39;49m\u001b[39mself\u001b[39;49m, _stacktrace\u001b[39m=\u001b[39;49msys\u001b[39m.\u001b[39;49mexc_info()[\u001b[39m2\u001b[39;49m]\n\u001b[0;32m    789\u001b[0m )\n\u001b[0;32m    790\u001b[0m retries\u001b[39m.\u001b[39msleep()\n",
      "File \u001b[1;32m~\\AppData\\Local\\Packages\\PythonSoftwareFoundation.Python.3.9_qbz5n2kfra8p0\\LocalCache\\local-packages\\Python39\\site-packages\\urllib3\\util\\retry.py:592\u001b[0m, in \u001b[0;36mRetry.increment\u001b[1;34m(self, method, url, response, error, _pool, _stacktrace)\u001b[0m\n\u001b[0;32m    591\u001b[0m \u001b[39mif\u001b[39;00m new_retry\u001b[39m.\u001b[39mis_exhausted():\n\u001b[1;32m--> 592\u001b[0m     \u001b[39mraise\u001b[39;00m MaxRetryError(_pool, url, error \u001b[39mor\u001b[39;00m ResponseError(cause))\n\u001b[0;32m    594\u001b[0m log\u001b[39m.\u001b[39mdebug(\u001b[39m\"\u001b[39m\u001b[39mIncremented Retry for (url=\u001b[39m\u001b[39m'\u001b[39m\u001b[39m%s\u001b[39;00m\u001b[39m'\u001b[39m\u001b[39m): \u001b[39m\u001b[39m%r\u001b[39;00m\u001b[39m\"\u001b[39m, url, new_retry)\n",
      "\u001b[1;31mMaxRetryError\u001b[0m: HTTPSConnectionPool(host='cvmweb.cvm.gov.br', port=443): Max retries exceeded with url: /SWB/Sistemas/SCW/CPublica/CDA/CPublicaCDA.aspx?PK_PARTIC=73249&SemFrame= (Caused by NewConnectionError('<urllib3.connection.HTTPSConnection object at 0x00000243BA752DC0>: Failed to establish a new connection: [Errno 11001] getaddrinfo failed'))",
      "\nDuring handling of the above exception, another exception occurred:\n",
      "\u001b[1;31mConnectionError\u001b[0m                           Traceback (most recent call last)",
      "Cell \u001b[1;32mIn[32], line 32\u001b[0m\n\u001b[0;32m     19\u001b[0m fund[\u001b[39m'\u001b[39m\u001b[39mFundo\u001b[39m\u001b[39m'\u001b[39m] \u001b[39m=\u001b[39m nomeFundo\n\u001b[0;32m     21\u001b[0m params \u001b[39m=\u001b[39m {\n\u001b[0;32m     22\u001b[0m \u001b[39m'\u001b[39m\u001b[39m__EVENTTARGET\u001b[39m\u001b[39m'\u001b[39m: \u001b[39m'\u001b[39m\u001b[39mddCOMPTC\u001b[39m\u001b[39m'\u001b[39m,\n\u001b[0;32m     23\u001b[0m \u001b[39m'\u001b[39m\u001b[39m__EVENTARGUMENT\u001b[39m\u001b[39m'\u001b[39m:\u001b[39m'\u001b[39m\u001b[39m'\u001b[39m, \n\u001b[1;32m   (...)\u001b[0m\n\u001b[0;32m     29\u001b[0m \u001b[39m'\u001b[39m\u001b[39mddCOMPTC\u001b[39m\u001b[39m'\u001b[39m: ddCompt\n\u001b[0;32m     30\u001b[0m }\n\u001b[1;32m---> 32\u001b[0m x \u001b[39m=\u001b[39m requests\u001b[39m.\u001b[39;49mpost(url, data \u001b[39m=\u001b[39;49m params)\n\u001b[0;32m     33\u001b[0m sp \u001b[39m=\u001b[39m BeautifulSoup(x\u001b[39m.\u001b[39mcontent, \u001b[39m\"\u001b[39m\u001b[39mhtml.parser\u001b[39m\u001b[39m\"\u001b[39m )\n\u001b[0;32m     35\u001b[0m \u001b[39m# Percorrendo a carteira\u001b[39;00m\n",
      "File \u001b[1;32m~\\AppData\\Local\\Packages\\PythonSoftwareFoundation.Python.3.9_qbz5n2kfra8p0\\LocalCache\\local-packages\\Python39\\site-packages\\requests\\api.py:115\u001b[0m, in \u001b[0;36mpost\u001b[1;34m(url, data, json, **kwargs)\u001b[0m\n\u001b[0;32m    103\u001b[0m \u001b[39mdef\u001b[39;00m \u001b[39mpost\u001b[39m(url, data\u001b[39m=\u001b[39m\u001b[39mNone\u001b[39;00m, json\u001b[39m=\u001b[39m\u001b[39mNone\u001b[39;00m, \u001b[39m*\u001b[39m\u001b[39m*\u001b[39mkwargs):\n\u001b[0;32m    104\u001b[0m \u001b[39m    \u001b[39m\u001b[39mr\u001b[39m\u001b[39m\"\"\"Sends a POST request.\u001b[39;00m\n\u001b[0;32m    105\u001b[0m \n\u001b[0;32m    106\u001b[0m \u001b[39m    :param url: URL for the new :class:`Request` object.\u001b[39;00m\n\u001b[1;32m   (...)\u001b[0m\n\u001b[0;32m    112\u001b[0m \u001b[39m    :rtype: requests.Response\u001b[39;00m\n\u001b[0;32m    113\u001b[0m \u001b[39m    \"\"\"\u001b[39;00m\n\u001b[1;32m--> 115\u001b[0m     \u001b[39mreturn\u001b[39;00m request(\u001b[39m\"\u001b[39m\u001b[39mpost\u001b[39m\u001b[39m\"\u001b[39m, url, data\u001b[39m=\u001b[39mdata, json\u001b[39m=\u001b[39mjson, \u001b[39m*\u001b[39m\u001b[39m*\u001b[39mkwargs)\n",
      "File \u001b[1;32m~\\AppData\\Local\\Packages\\PythonSoftwareFoundation.Python.3.9_qbz5n2kfra8p0\\LocalCache\\local-packages\\Python39\\site-packages\\requests\\api.py:59\u001b[0m, in \u001b[0;36mrequest\u001b[1;34m(method, url, **kwargs)\u001b[0m\n\u001b[0;32m     55\u001b[0m \u001b[39m# By using the 'with' statement we are sure the session is closed, thus we\u001b[39;00m\n\u001b[0;32m     56\u001b[0m \u001b[39m# avoid leaving sockets open which can trigger a ResourceWarning in some\u001b[39;00m\n\u001b[0;32m     57\u001b[0m \u001b[39m# cases, and look like a memory leak in others.\u001b[39;00m\n\u001b[0;32m     58\u001b[0m \u001b[39mwith\u001b[39;00m sessions\u001b[39m.\u001b[39mSession() \u001b[39mas\u001b[39;00m session:\n\u001b[1;32m---> 59\u001b[0m     \u001b[39mreturn\u001b[39;00m session\u001b[39m.\u001b[39mrequest(method\u001b[39m=\u001b[39mmethod, url\u001b[39m=\u001b[39murl, \u001b[39m*\u001b[39m\u001b[39m*\u001b[39mkwargs)\n",
      "File \u001b[1;32m~\\AppData\\Local\\Packages\\PythonSoftwareFoundation.Python.3.9_qbz5n2kfra8p0\\LocalCache\\local-packages\\Python39\\site-packages\\requests\\sessions.py:587\u001b[0m, in \u001b[0;36mSession.request\u001b[1;34m(self, method, url, params, data, headers, cookies, files, auth, timeout, allow_redirects, proxies, hooks, stream, verify, cert, json)\u001b[0m\n\u001b[0;32m    582\u001b[0m send_kwargs \u001b[39m=\u001b[39m {\n\u001b[0;32m    583\u001b[0m     \u001b[39m\"\u001b[39m\u001b[39mtimeout\u001b[39m\u001b[39m\"\u001b[39m: timeout,\n\u001b[0;32m    584\u001b[0m     \u001b[39m\"\u001b[39m\u001b[39mallow_redirects\u001b[39m\u001b[39m\"\u001b[39m: allow_redirects,\n\u001b[0;32m    585\u001b[0m }\n\u001b[0;32m    586\u001b[0m send_kwargs\u001b[39m.\u001b[39mupdate(settings)\n\u001b[1;32m--> 587\u001b[0m resp \u001b[39m=\u001b[39m \u001b[39mself\u001b[39m\u001b[39m.\u001b[39msend(prep, \u001b[39m*\u001b[39m\u001b[39m*\u001b[39msend_kwargs)\n\u001b[0;32m    589\u001b[0m \u001b[39mreturn\u001b[39;00m resp\n",
      "File \u001b[1;32m~\\AppData\\Local\\Packages\\PythonSoftwareFoundation.Python.3.9_qbz5n2kfra8p0\\LocalCache\\local-packages\\Python39\\site-packages\\requests\\sessions.py:701\u001b[0m, in \u001b[0;36mSession.send\u001b[1;34m(self, request, **kwargs)\u001b[0m\n\u001b[0;32m    698\u001b[0m start \u001b[39m=\u001b[39m preferred_clock()\n\u001b[0;32m    700\u001b[0m \u001b[39m# Send the request\u001b[39;00m\n\u001b[1;32m--> 701\u001b[0m r \u001b[39m=\u001b[39m adapter\u001b[39m.\u001b[39msend(request, \u001b[39m*\u001b[39m\u001b[39m*\u001b[39mkwargs)\n\u001b[0;32m    703\u001b[0m \u001b[39m# Total elapsed time of the request (approximately)\u001b[39;00m\n\u001b[0;32m    704\u001b[0m elapsed \u001b[39m=\u001b[39m preferred_clock() \u001b[39m-\u001b[39m start\n",
      "File \u001b[1;32m~\\AppData\\Local\\Packages\\PythonSoftwareFoundation.Python.3.9_qbz5n2kfra8p0\\LocalCache\\local-packages\\Python39\\site-packages\\requests\\adapters.py:565\u001b[0m, in \u001b[0;36mHTTPAdapter.send\u001b[1;34m(self, request, stream, timeout, verify, cert, proxies)\u001b[0m\n\u001b[0;32m    561\u001b[0m     \u001b[39mif\u001b[39;00m \u001b[39misinstance\u001b[39m(e\u001b[39m.\u001b[39mreason, _SSLError):\n\u001b[0;32m    562\u001b[0m         \u001b[39m# This branch is for urllib3 v1.22 and later.\u001b[39;00m\n\u001b[0;32m    563\u001b[0m         \u001b[39mraise\u001b[39;00m SSLError(e, request\u001b[39m=\u001b[39mrequest)\n\u001b[1;32m--> 565\u001b[0m     \u001b[39mraise\u001b[39;00m \u001b[39mConnectionError\u001b[39;00m(e, request\u001b[39m=\u001b[39mrequest)\n\u001b[0;32m    567\u001b[0m \u001b[39mexcept\u001b[39;00m ClosedPoolError \u001b[39mas\u001b[39;00m e:\n\u001b[0;32m    568\u001b[0m     \u001b[39mraise\u001b[39;00m \u001b[39mConnectionError\u001b[39;00m(e, request\u001b[39m=\u001b[39mrequest)\n",
      "\u001b[1;31mConnectionError\u001b[0m: HTTPSConnectionPool(host='cvmweb.cvm.gov.br', port=443): Max retries exceeded with url: /SWB/Sistemas/SCW/CPublica/CDA/CPublicaCDA.aspx?PK_PARTIC=73249&SemFrame= (Caused by NewConnectionError('<urllib3.connection.HTTPSConnection object at 0x00000243BA752DC0>: Failed to establish a new connection: [Errno 11001] getaddrinfo failed'))"
     ]
    }
   ],
   "source": [
    "# inputs: meses anteriores, lista de fundos, \n",
    "\n",
    "funds = []\n",
    "\n",
    "# Percorrer os fundos \n",
    "for id in PK:\n",
    "    url = 'https://cvmweb.cvm.gov.br/SWB/Sistemas/SCW/CPublica/CDA/CPublicaCDA.aspx?PK_PARTIC='+id+'&SemFrame='\n",
    "    http = requests.get(url)\n",
    "    soup = BeautifulSoup(http.content, \"html.parser\" )\n",
    "    nomeFundo = soup.select('#lbNmDenomSocial')[0].text\n",
    "    fund = {'Fundo':nomeFundo, 'posicoes': []}\n",
    "    viewState = soup.select('#__VIEWSTATE')[0].get('value')\n",
    "    eventValidation = soup.select('#__EVENTVALIDATION')[0].get('value')\n",
    "    \n",
    "\n",
    "    # Percorrendo todos os meses\n",
    "    for i in range(2, meses_anteriores):\n",
    "        tickers = []\n",
    "        ddCompt = soup.select('option')[i].get('value')\n",
    "        mes = soup.select('option')[i].text\n",
    "        fund['Fundo'] = nomeFundo\n",
    "\n",
    "        params = {\n",
    "        '__EVENTTARGET': 'ddCOMPTC',\n",
    "        '__EVENTARGUMENT':'', \n",
    "        '__LASTFOCUS':'',\n",
    "        '__VIEWSTATE':viewState,\n",
    "        '__VIEWSTATEGENERATOR': \n",
    "        '1D0C00E6',\n",
    "        '__EVENTVALIDATION': eventValidation, \n",
    "        'ddCOMPTC': ddCompt\n",
    "        }\n",
    "\n",
    "        x = requests.post(url, data = params)\n",
    "        sp = BeautifulSoup(x.content, \"html.parser\" )\n",
    "        \n",
    "        # Percorrendo a carteira\n",
    "        for index in range(len(sp.select(\"[align=left]\"))):\n",
    "            line = sp.select(\"[align=left]\")[index].text\n",
    "\n",
    "            if unidecode(line.split(':')[0].split('.')[0].strip().lower()) == 'acoesdescricao' or unidecode(line.split(':')[0].split('.')[0].strip().lower()) =='acoescod' or unidecode(line.split(':')[0].split('.')[0].strip().lower()) == 'athSSescod':\n",
    "            # CRIAR CONDIÇÃO QUE SÓ PEGA O TICKER SE FOR AÇÃO, PRECISO ENDIREITAR A STRING DO TICKER QUE FICA COLADA COM A PALAVRA DE BAIXO\n",
    "            # POSSO USAR REGEX PRA PEGAR APENAS A PALAVRA ATÉ O NUMERO\n",
    "                word = line.split(':')[1].strip().split(' ')[0]\n",
    "                tick = re.search('^.*\\d', word).group(0)\n",
    "\n",
    "                tickers.append(tick)\n",
    "        \n",
    "        dic = {\n",
    "            'Mes': mes,\n",
    "            'Posicoes': tickers\n",
    "        }\n",
    "\n",
    "        fund['posicoes'].append(dic)\n",
    "    funds.append(fund)"
   ]
  },
  {
   "attachments": {},
   "cell_type": "markdown",
   "metadata": {},
   "source": [
    "# Função modulada"
   ]
  },
  {
   "cell_type": "code",
   "execution_count": 3,
   "metadata": {},
   "outputs": [],
   "source": [
    "funds = []\n",
    "\n",
    "# Percorrer os fundos \n",
    "def raspagemCarteira(PK, meses_anteriores, fundo_destino): \n",
    "    for id in PK:\n",
    "        url = 'https://cvmweb.cvm.gov.br/SWB/Sistemas/SCW/CPublica/CDA/CPublicaCDA.aspx?PK_PARTIC='+id+'&SemFrame='\n",
    "        http = requests.get(url)\n",
    "        soup = BeautifulSoup(http.content, \"html.parser\" )\n",
    "        nomeFundo = soup.select('#lbNmDenomSocial')[0].text\n",
    "        fund = {'Fundo':nomeFundo, 'posicoes': []}\n",
    "        viewState = soup.select('#__VIEWSTATE')[0].get('value')\n",
    "        eventValidation = soup.select('#__EVENTVALIDATION')[0].get('value')\n",
    "        \n",
    "\n",
    "        # Percorrendo todos os meses\n",
    "        for i in range(2, meses_anteriores):\n",
    "            tickers = []\n",
    "            ddCompt = soup.select('option')[i].get('value')\n",
    "            mes = soup.select('option')[i].text\n",
    "            fund['Fundo'] = nomeFundo\n",
    "\n",
    "            params = {\n",
    "            '__EVENTTARGET': 'ddCOMPTC',\n",
    "            '__EVENTARGUMENT':'', \n",
    "            '__LASTFOCUS':'',\n",
    "            '__VIEWSTATE':viewState,\n",
    "            '__VIEWSTATEGENERATOR': \n",
    "            '1D0C00E6',\n",
    "            '__EVENTVALIDATION': eventValidation, \n",
    "            'ddCOMPTC': ddCompt\n",
    "            }\n",
    "\n",
    "            x = requests.post(url, data = params)\n",
    "            sp = BeautifulSoup(x.content, \"html.parser\" )\n",
    "            \n",
    "            # Percorrendo a carteira\n",
    "            for index in range(len(sp.select(\"[align=left]\"))):\n",
    "                line = sp.select(\"[align=left]\")[index].text\n",
    "\n",
    "                if unidecode(line.split(':')[0].split('.')[0].strip().lower()) == 'acoesdescricao' or unidecode(line.split(':')[0].split('.')[0].strip().lower()) =='acoescod' or unidecode(line.split(':')[0].split('.')[0].strip().lower()) == 'athSSescod':\n",
    "                # CRIAR CONDIÇÃO QUE SÓ PEGA O TICKER SE FOR AÇÃO, PRECISO ENDIREITAR A STRING DO TICKER QUE FICA COLADA COM A PALAVRA DE BAIXO\n",
    "                # POSSO USAR REGEX PRA PEGAR APENAS A PALAVRA ATÉ O NUMERO\n",
    "                    word = line.split(':')[1].strip().split(' ')[0]\n",
    "                    tick = re.search('^.*\\d', word).group(0)\n",
    "\n",
    "                    tickers.append(tick)\n",
    "            \n",
    "            dic = {\n",
    "                'Mes': mes,\n",
    "                'Posicoes': tickers\n",
    "            }\n",
    "\n",
    "            fund['posicoes'].append(dic)\n",
    "        funds.append(fund)\n",
    "    return funds"
   ]
  },
  {
   "cell_type": "code",
   "execution_count": null,
   "metadata": {},
   "outputs": [],
   "source": []
  }
 ],
 "metadata": {
  "kernelspec": {
   "display_name": "Python 3",
   "language": "python",
   "name": "python3"
  },
  "language_info": {
   "codemirror_mode": {
    "name": "ipython",
    "version": 3
   },
   "file_extension": ".py",
   "mimetype": "text/x-python",
   "name": "python",
   "nbconvert_exporter": "python",
   "pygments_lexer": "ipython3",
   "version": "3.9.13"
  },
  "orig_nbformat": 4,
  "vscode": {
   "interpreter": {
    "hash": "a4abf6c2225b0bdcce88164fb04a639c1d92c1becd90735eeb8a6648ec296b30"
   }
  }
 },
 "nbformat": 4,
 "nbformat_minor": 2
}
